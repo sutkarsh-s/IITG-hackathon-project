{
 "cells": [
  {
   "cell_type": "markdown",
   "id": "6dfb5457",
   "metadata": {
    "papermill": {
     "duration": 0.003175,
     "end_time": "2022-07-21T07:38:30.478091",
     "exception": false,
     "start_time": "2022-07-21T07:38:30.474916",
     "status": "completed"
    },
    "tags": []
   },
   "source": [
    "# CnA Final Capstone Project KFold Generation"
   ]
  },
  {
   "cell_type": "markdown",
   "id": "22c5feac",
   "metadata": {
    "papermill": {
     "duration": 0.001616,
     "end_time": "2022-07-21T07:38:30.482044",
     "exception": false,
     "start_time": "2022-07-21T07:38:30.480428",
     "status": "completed"
    },
    "tags": []
   },
   "source": [
    "No Particular Reason for creating a separate notebook for creating folds, just a habit. Also, I ended up not using these folds. I usually always use model stacking or ensembling but I didnt use it this time because the results were not promising/ I didnt do it properly this time :(\n",
    "\n",
    "Some resources for getting started (will update them too):\n",
    "* KFold Cross Validation: \n",
    "     * https://machinelearningmastery.com/k-fold-cross-validation/ \n",
    "     * https://www.analyticsvidhya.com/blog/2022/02/k-fold-cross-validation-technique-and-its-essentials/\n",
    "* Ensembling, Stacking, Blending: \n",
    "     * https://www.analyticsvidhya.com/blog/2021/08/ensemble-stacking-for-machine-learning-and-deep-learning/ \n",
    "     * https://www.geeksforgeeks.org/stacking-in-machine-learning/"
   ]
  },
  {
   "cell_type": "code",
   "execution_count": 1,
   "id": "aa3eee63",
   "metadata": {
    "_cell_guid": "b1076dfc-b9ad-4769-8c92-a6c4dae69d19",
    "_uuid": "8f2839f25d086af736a60e9eeb907d3b93b6e0e5",
    "execution": {
     "iopub.execute_input": "2022-07-21T07:38:30.488373Z",
     "iopub.status.busy": "2022-07-21T07:38:30.487552Z",
     "iopub.status.idle": "2022-07-21T07:38:31.648555Z",
     "shell.execute_reply": "2022-07-21T07:38:31.647548Z"
    },
    "papermill": {
     "duration": 1.167597,
     "end_time": "2022-07-21T07:38:31.651455",
     "exception": false,
     "start_time": "2022-07-21T07:38:30.483858",
     "status": "completed"
    },
    "tags": []
   },
   "outputs": [],
   "source": [
    "#Library Imports\n",
    "import numpy as np\n",
    "import pandas as pd\n",
    "from sklearn import model_selection"
   ]
  },
  {
   "cell_type": "code",
   "execution_count": 2,
   "id": "8d7d89c0",
   "metadata": {
    "execution": {
     "iopub.execute_input": "2022-07-21T07:38:31.657668Z",
     "iopub.status.busy": "2022-07-21T07:38:31.657258Z",
     "iopub.status.idle": "2022-07-21T07:38:31.741080Z",
     "shell.execute_reply": "2022-07-21T07:38:31.740215Z"
    },
    "papermill": {
     "duration": 0.089996,
     "end_time": "2022-07-21T07:38:31.743799",
     "exception": false,
     "start_time": "2022-07-21T07:38:31.653803",
     "status": "completed"
    },
    "tags": []
   },
   "outputs": [],
   "source": [
    "# Loading in the dataset and creating kfold feature to mark the folds\n",
    "df_train = pd.read_csv(\"../input/sa2022/train.csv\")\n",
    "df_train[\"kfold\"] = -1"
   ]
  },
  {
   "cell_type": "code",
   "execution_count": 3,
   "id": "f37c6fb6",
   "metadata": {
    "execution": {
     "iopub.execute_input": "2022-07-21T07:38:31.749918Z",
     "iopub.status.busy": "2022-07-21T07:38:31.749518Z",
     "iopub.status.idle": "2022-07-21T07:38:31.763666Z",
     "shell.execute_reply": "2022-07-21T07:38:31.762467Z"
    },
    "papermill": {
     "duration": 0.020502,
     "end_time": "2022-07-21T07:38:31.766612",
     "exception": false,
     "start_time": "2022-07-21T07:38:31.746110",
     "status": "completed"
    },
    "tags": []
   },
   "outputs": [],
   "source": [
    "# Creating the 5 folds\n",
    "kf = model_selection.KFold(n_splits=5, shuffle=True, random_state=42)\n",
    "for fold, (train_indicies, valid_indicies) in enumerate(kf.split(X=df_train)):\n",
    "    df_train.loc[valid_indicies, \"kfold\"] = fold"
   ]
  },
  {
   "cell_type": "code",
   "execution_count": 4,
   "id": "31401aa4",
   "metadata": {
    "execution": {
     "iopub.execute_input": "2022-07-21T07:38:31.772737Z",
     "iopub.status.busy": "2022-07-21T07:38:31.772320Z",
     "iopub.status.idle": "2022-07-21T07:38:31.914923Z",
     "shell.execute_reply": "2022-07-21T07:38:31.913595Z"
    },
    "papermill": {
     "duration": 0.149097,
     "end_time": "2022-07-21T07:38:31.918008",
     "exception": false,
     "start_time": "2022-07-21T07:38:31.768911",
     "status": "completed"
    },
    "tags": []
   },
   "outputs": [],
   "source": [
    "# Converting to csv file for further use\n",
    "df_train.to_csv(\"train_folds.csv\", index=False)"
   ]
  }
 ],
 "metadata": {
  "kernelspec": {
   "display_name": "Python 3",
   "language": "python",
   "name": "python3"
  },
  "language_info": {
   "codemirror_mode": {
    "name": "ipython",
    "version": 3
   },
   "file_extension": ".py",
   "mimetype": "text/x-python",
   "name": "python",
   "nbconvert_exporter": "python",
   "pygments_lexer": "ipython3",
   "version": "3.7.12"
  },
  "papermill": {
   "default_parameters": {},
   "duration": 11.259963,
   "end_time": "2022-07-21T07:38:32.846388",
   "environment_variables": {},
   "exception": null,
   "input_path": "__notebook__.ipynb",
   "output_path": "__notebook__.ipynb",
   "parameters": {},
   "start_time": "2022-07-21T07:38:21.586425",
   "version": "2.3.4"
  }
 },
 "nbformat": 4,
 "nbformat_minor": 5
}
